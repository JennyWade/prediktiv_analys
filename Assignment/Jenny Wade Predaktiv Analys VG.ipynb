{
 "cells": [
  {
   "cell_type": "code",
   "execution_count": 227,
   "metadata": {},
   "outputs": [],
   "source": [
    "import numpy as np\n",
    "import matplotlib.pyplot as plt\n",
    "import pandas as pd\n",
    "import seaborn as sns\n",
    "from sklearn.model_selection import train_test_split\n",
    "from sklearn.metrics import mean_squared_error, r2_score\n",
    "from sklearn.neighbors import KNeighborsRegressor\n",
    "from sklearn.linear_model import Lasso\n",
    "from sklearn.linear_model import LinearRegression\n",
    "from sklearn.preprocessing import RobustScaler\n",
    "from sklearn.ensemble import RandomForestRegressor\n",
    "from sklearn.ensemble import RandomForestClassifier\n",
    "from sklearn.feature_selection import RFE\n",
    "from collections import OrderedDict\n",
    "from sklearn.model_selection import cross_validate\n"
   ]
  },
  {
   "cell_type": "code",
   "execution_count": 228,
   "metadata": {},
   "outputs": [],
   "source": [
    "#Import data into dataframe\n",
    "pred_data = pd.read_csv('/Users/jenny.wade@schibsted.com/Documents/GitHub/prediktiv_analys/Assignment/prediktiv_data.csv', index_col='id')"
   ]
  },
  {
   "cell_type": "markdown",
   "metadata": {},
   "source": [
    "Initial exploration of the data below"
   ]
  },
  {
   "cell_type": "code",
   "execution_count": 229,
   "metadata": {},
   "outputs": [
    {
     "data": {
      "text/html": [
       "<div>\n",
       "<style scoped>\n",
       "    .dataframe tbody tr th:only-of-type {\n",
       "        vertical-align: middle;\n",
       "    }\n",
       "\n",
       "    .dataframe tbody tr th {\n",
       "        vertical-align: top;\n",
       "    }\n",
       "\n",
       "    .dataframe thead th {\n",
       "        text-align: right;\n",
       "    }\n",
       "</style>\n",
       "<table border=\"1\" class=\"dataframe\">\n",
       "  <thead>\n",
       "    <tr style=\"text-align: right;\">\n",
       "      <th></th>\n",
       "      <th>target</th>\n",
       "      <th>feature01</th>\n",
       "      <th>feature02</th>\n",
       "      <th>feature03</th>\n",
       "      <th>feature04</th>\n",
       "      <th>feature05</th>\n",
       "      <th>feature06</th>\n",
       "      <th>feature07</th>\n",
       "      <th>feature08</th>\n",
       "      <th>feature09</th>\n",
       "      <th>feature10</th>\n",
       "      <th>feature10.1</th>\n",
       "      <th>feature14</th>\n",
       "      <th>feature17</th>\n",
       "      <th>feature18</th>\n",
       "      <th>feature19</th>\n",
       "      <th>feature20</th>\n",
       "      <th>feature21</th>\n",
       "      <th>feature22</th>\n",
       "      <th>feature23</th>\n",
       "    </tr>\n",
       "  </thead>\n",
       "  <tbody>\n",
       "    <tr>\n",
       "      <th>count</th>\n",
       "      <td>2930.000000</td>\n",
       "      <td>2929.000000</td>\n",
       "      <td>2929.000000</td>\n",
       "      <td>2930.000000</td>\n",
       "      <td>2929.000000</td>\n",
       "      <td>2930.000000</td>\n",
       "      <td>2930.000000</td>\n",
       "      <td>2930.000000</td>\n",
       "      <td>2930.000000</td>\n",
       "      <td>2930.000000</td>\n",
       "      <td>2930.000000</td>\n",
       "      <td>2930.000000</td>\n",
       "      <td>2930.000000</td>\n",
       "      <td>2930.000000</td>\n",
       "      <td>2930.000000</td>\n",
       "      <td>2930.000000</td>\n",
       "      <td>2930.000000</td>\n",
       "      <td>2930.000000</td>\n",
       "      <td>2930.000000</td>\n",
       "      <td>2930.000000</td>\n",
       "    </tr>\n",
       "    <tr>\n",
       "      <th>mean</th>\n",
       "      <td>180796.060068</td>\n",
       "      <td>1.766815</td>\n",
       "      <td>472.819734</td>\n",
       "      <td>2.243345</td>\n",
       "      <td>1051.614544</td>\n",
       "      <td>1159.557679</td>\n",
       "      <td>6.443003</td>\n",
       "      <td>1499.690444</td>\n",
       "      <td>6.094881</td>\n",
       "      <td>5.563140</td>\n",
       "      <td>1971.356314</td>\n",
       "      <td>1.566553</td>\n",
       "      <td>0.599317</td>\n",
       "      <td>2.854266</td>\n",
       "      <td>1.044369</td>\n",
       "      <td>6.216041</td>\n",
       "      <td>2007.790444</td>\n",
       "      <td>0.379522</td>\n",
       "      <td>335.455973</td>\n",
       "      <td>1984.266553</td>\n",
       "    </tr>\n",
       "    <tr>\n",
       "      <th>std</th>\n",
       "      <td>79886.692357</td>\n",
       "      <td>0.760566</td>\n",
       "      <td>215.046549</td>\n",
       "      <td>35.597181</td>\n",
       "      <td>440.615067</td>\n",
       "      <td>391.890885</td>\n",
       "      <td>1.572964</td>\n",
       "      <td>505.508887</td>\n",
       "      <td>1.411026</td>\n",
       "      <td>1.111537</td>\n",
       "      <td>30.245361</td>\n",
       "      <td>0.552941</td>\n",
       "      <td>0.647921</td>\n",
       "      <td>0.827731</td>\n",
       "      <td>0.214076</td>\n",
       "      <td>2.714492</td>\n",
       "      <td>1.316613</td>\n",
       "      <td>0.502629</td>\n",
       "      <td>428.395715</td>\n",
       "      <td>20.860286</td>\n",
       "    </tr>\n",
       "    <tr>\n",
       "      <th>min</th>\n",
       "      <td>12789.000000</td>\n",
       "      <td>0.000000</td>\n",
       "      <td>0.000000</td>\n",
       "      <td>0.000000</td>\n",
       "      <td>0.000000</td>\n",
       "      <td>334.000000</td>\n",
       "      <td>2.000000</td>\n",
       "      <td>334.000000</td>\n",
       "      <td>1.000000</td>\n",
       "      <td>1.000000</td>\n",
       "      <td>1872.000000</td>\n",
       "      <td>0.000000</td>\n",
       "      <td>0.000000</td>\n",
       "      <td>0.000000</td>\n",
       "      <td>0.000000</td>\n",
       "      <td>1.000000</td>\n",
       "      <td>2006.000000</td>\n",
       "      <td>0.000000</td>\n",
       "      <td>0.000000</td>\n",
       "      <td>1950.000000</td>\n",
       "    </tr>\n",
       "    <tr>\n",
       "      <th>25%</th>\n",
       "      <td>129500.000000</td>\n",
       "      <td>1.000000</td>\n",
       "      <td>320.000000</td>\n",
       "      <td>0.000000</td>\n",
       "      <td>793.000000</td>\n",
       "      <td>876.250000</td>\n",
       "      <td>5.000000</td>\n",
       "      <td>1126.000000</td>\n",
       "      <td>5.000000</td>\n",
       "      <td>5.000000</td>\n",
       "      <td>1954.000000</td>\n",
       "      <td>1.000000</td>\n",
       "      <td>0.000000</td>\n",
       "      <td>2.000000</td>\n",
       "      <td>1.000000</td>\n",
       "      <td>4.000000</td>\n",
       "      <td>2007.000000</td>\n",
       "      <td>0.000000</td>\n",
       "      <td>0.000000</td>\n",
       "      <td>1965.000000</td>\n",
       "    </tr>\n",
       "    <tr>\n",
       "      <th>50%</th>\n",
       "      <td>160000.000000</td>\n",
       "      <td>2.000000</td>\n",
       "      <td>480.000000</td>\n",
       "      <td>0.000000</td>\n",
       "      <td>990.000000</td>\n",
       "      <td>1084.000000</td>\n",
       "      <td>6.000000</td>\n",
       "      <td>1442.000000</td>\n",
       "      <td>6.000000</td>\n",
       "      <td>5.000000</td>\n",
       "      <td>1973.000000</td>\n",
       "      <td>2.000000</td>\n",
       "      <td>1.000000</td>\n",
       "      <td>3.000000</td>\n",
       "      <td>1.000000</td>\n",
       "      <td>6.000000</td>\n",
       "      <td>2008.000000</td>\n",
       "      <td>0.000000</td>\n",
       "      <td>0.000000</td>\n",
       "      <td>1993.000000</td>\n",
       "    </tr>\n",
       "    <tr>\n",
       "      <th>75%</th>\n",
       "      <td>213500.000000</td>\n",
       "      <td>2.000000</td>\n",
       "      <td>576.000000</td>\n",
       "      <td>0.000000</td>\n",
       "      <td>1302.000000</td>\n",
       "      <td>1384.000000</td>\n",
       "      <td>7.000000</td>\n",
       "      <td>1742.750000</td>\n",
       "      <td>7.000000</td>\n",
       "      <td>6.000000</td>\n",
       "      <td>2001.000000</td>\n",
       "      <td>2.000000</td>\n",
       "      <td>1.000000</td>\n",
       "      <td>3.000000</td>\n",
       "      <td>1.000000</td>\n",
       "      <td>8.000000</td>\n",
       "      <td>2009.000000</td>\n",
       "      <td>1.000000</td>\n",
       "      <td>703.750000</td>\n",
       "      <td>2004.000000</td>\n",
       "    </tr>\n",
       "    <tr>\n",
       "      <th>max</th>\n",
       "      <td>755000.000000</td>\n",
       "      <td>5.000000</td>\n",
       "      <td>1488.000000</td>\n",
       "      <td>800.000000</td>\n",
       "      <td>6110.000000</td>\n",
       "      <td>5095.000000</td>\n",
       "      <td>15.000000</td>\n",
       "      <td>5642.000000</td>\n",
       "      <td>10.000000</td>\n",
       "      <td>9.000000</td>\n",
       "      <td>2010.000000</td>\n",
       "      <td>4.000000</td>\n",
       "      <td>4.000000</td>\n",
       "      <td>8.000000</td>\n",
       "      <td>3.000000</td>\n",
       "      <td>12.000000</td>\n",
       "      <td>2010.000000</td>\n",
       "      <td>2.000000</td>\n",
       "      <td>2065.000000</td>\n",
       "      <td>2010.000000</td>\n",
       "    </tr>\n",
       "  </tbody>\n",
       "</table>\n",
       "</div>"
      ],
      "text/plain": [
       "              target    feature01    feature02    feature03    feature04  \\\n",
       "count    2930.000000  2929.000000  2929.000000  2930.000000  2929.000000   \n",
       "mean   180796.060068     1.766815   472.819734     2.243345  1051.614544   \n",
       "std     79886.692357     0.760566   215.046549    35.597181   440.615067   \n",
       "min     12789.000000     0.000000     0.000000     0.000000     0.000000   \n",
       "25%    129500.000000     1.000000   320.000000     0.000000   793.000000   \n",
       "50%    160000.000000     2.000000   480.000000     0.000000   990.000000   \n",
       "75%    213500.000000     2.000000   576.000000     0.000000  1302.000000   \n",
       "max    755000.000000     5.000000  1488.000000   800.000000  6110.000000   \n",
       "\n",
       "         feature05    feature06    feature07    feature08    feature09  \\\n",
       "count  2930.000000  2930.000000  2930.000000  2930.000000  2930.000000   \n",
       "mean   1159.557679     6.443003  1499.690444     6.094881     5.563140   \n",
       "std     391.890885     1.572964   505.508887     1.411026     1.111537   \n",
       "min     334.000000     2.000000   334.000000     1.000000     1.000000   \n",
       "25%     876.250000     5.000000  1126.000000     5.000000     5.000000   \n",
       "50%    1084.000000     6.000000  1442.000000     6.000000     5.000000   \n",
       "75%    1384.000000     7.000000  1742.750000     7.000000     6.000000   \n",
       "max    5095.000000    15.000000  5642.000000    10.000000     9.000000   \n",
       "\n",
       "         feature10  feature10.1    feature14    feature17    feature18  \\\n",
       "count  2930.000000  2930.000000  2930.000000  2930.000000  2930.000000   \n",
       "mean   1971.356314     1.566553     0.599317     2.854266     1.044369   \n",
       "std      30.245361     0.552941     0.647921     0.827731     0.214076   \n",
       "min    1872.000000     0.000000     0.000000     0.000000     0.000000   \n",
       "25%    1954.000000     1.000000     0.000000     2.000000     1.000000   \n",
       "50%    1973.000000     2.000000     1.000000     3.000000     1.000000   \n",
       "75%    2001.000000     2.000000     1.000000     3.000000     1.000000   \n",
       "max    2010.000000     4.000000     4.000000     8.000000     3.000000   \n",
       "\n",
       "         feature19    feature20    feature21    feature22    feature23  \n",
       "count  2930.000000  2930.000000  2930.000000  2930.000000  2930.000000  \n",
       "mean      6.216041  2007.790444     0.379522   335.455973  1984.266553  \n",
       "std       2.714492     1.316613     0.502629   428.395715    20.860286  \n",
       "min       1.000000  2006.000000     0.000000     0.000000  1950.000000  \n",
       "25%       4.000000  2007.000000     0.000000     0.000000  1965.000000  \n",
       "50%       6.000000  2008.000000     0.000000     0.000000  1993.000000  \n",
       "75%       8.000000  2009.000000     1.000000   703.750000  2004.000000  \n",
       "max      12.000000  2010.000000     2.000000  2065.000000  2010.000000  "
      ]
     },
     "execution_count": 229,
     "metadata": {},
     "output_type": "execute_result"
    }
   ],
   "source": [
    "pred_data.describe()"
   ]
  },
  {
   "cell_type": "code",
   "execution_count": 230,
   "metadata": {},
   "outputs": [
    {
     "name": "stdout",
     "output_type": "stream",
     "text": [
      "<class 'pandas.core.frame.DataFrame'>\n",
      "Int64Index: 2930 entries, 1 to 2930\n",
      "Data columns (total 25 columns):\n",
      " #   Column       Non-Null Count  Dtype  \n",
      "---  ------       --------------  -----  \n",
      " 0   target       2930 non-null   int64  \n",
      " 1   feature01    2929 non-null   float64\n",
      " 2   feature02    2929 non-null   float64\n",
      " 3   feature03    2930 non-null   int64  \n",
      " 4   feature04    2929 non-null   float64\n",
      " 5   feature05    2930 non-null   int64  \n",
      " 6   feature06    2930 non-null   int64  \n",
      " 7   feature07    2930 non-null   int64  \n",
      " 8   feature08    2930 non-null   int64  \n",
      " 9   feature09    2930 non-null   int64  \n",
      " 10  feature10    2930 non-null   int64  \n",
      " 11  feature10.1  2930 non-null   int64  \n",
      " 12  feature11    198 non-null    object \n",
      " 13  feature12    572 non-null    object \n",
      " 14  feature13    2929 non-null   object \n",
      " 15  feature14    2930 non-null   int64  \n",
      " 16  feature15    1508 non-null   object \n",
      " 17  feature16    2930 non-null   object \n",
      " 18  feature17    2930 non-null   int64  \n",
      " 19  feature18    2930 non-null   int64  \n",
      " 20  feature19    2930 non-null   int64  \n",
      " 21  feature20    2930 non-null   int64  \n",
      " 22  feature21    2930 non-null   int64  \n",
      " 23  feature22    2930 non-null   int64  \n",
      " 24  feature23    2930 non-null   int64  \n",
      "dtypes: float64(3), int64(17), object(5)\n",
      "memory usage: 595.2+ KB\n"
     ]
    }
   ],
   "source": [
    "pred_data.info()\n"
   ]
  },
  {
   "cell_type": "code",
   "execution_count": 231,
   "metadata": {},
   "outputs": [
    {
     "data": {
      "text/plain": [
       "(2930, 25)"
      ]
     },
     "execution_count": 231,
     "metadata": {},
     "output_type": "execute_result"
    }
   ],
   "source": [
    "pred_data.shape"
   ]
  },
  {
   "cell_type": "code",
   "execution_count": 232,
   "metadata": {},
   "outputs": [
    {
     "data": {
      "text/html": [
       "<div>\n",
       "<style scoped>\n",
       "    .dataframe tbody tr th:only-of-type {\n",
       "        vertical-align: middle;\n",
       "    }\n",
       "\n",
       "    .dataframe tbody tr th {\n",
       "        vertical-align: top;\n",
       "    }\n",
       "\n",
       "    .dataframe thead th {\n",
       "        text-align: right;\n",
       "    }\n",
       "</style>\n",
       "<table border=\"1\" class=\"dataframe\">\n",
       "  <thead>\n",
       "    <tr style=\"text-align: right;\">\n",
       "      <th></th>\n",
       "      <th>target</th>\n",
       "      <th>feature01</th>\n",
       "      <th>feature02</th>\n",
       "      <th>feature03</th>\n",
       "      <th>feature04</th>\n",
       "      <th>feature05</th>\n",
       "      <th>feature06</th>\n",
       "      <th>feature07</th>\n",
       "      <th>feature08</th>\n",
       "      <th>feature09</th>\n",
       "      <th>...</th>\n",
       "      <th>feature14</th>\n",
       "      <th>feature15</th>\n",
       "      <th>feature16</th>\n",
       "      <th>feature17</th>\n",
       "      <th>feature18</th>\n",
       "      <th>feature19</th>\n",
       "      <th>feature20</th>\n",
       "      <th>feature21</th>\n",
       "      <th>feature22</th>\n",
       "      <th>feature23</th>\n",
       "    </tr>\n",
       "    <tr>\n",
       "      <th>id</th>\n",
       "      <th></th>\n",
       "      <th></th>\n",
       "      <th></th>\n",
       "      <th></th>\n",
       "      <th></th>\n",
       "      <th></th>\n",
       "      <th></th>\n",
       "      <th></th>\n",
       "      <th></th>\n",
       "      <th></th>\n",
       "      <th></th>\n",
       "      <th></th>\n",
       "      <th></th>\n",
       "      <th></th>\n",
       "      <th></th>\n",
       "      <th></th>\n",
       "      <th></th>\n",
       "      <th></th>\n",
       "      <th></th>\n",
       "      <th></th>\n",
       "      <th></th>\n",
       "    </tr>\n",
       "  </thead>\n",
       "  <tbody>\n",
       "    <tr>\n",
       "      <th>1</th>\n",
       "      <td>215000</td>\n",
       "      <td>2.0</td>\n",
       "      <td>528.0</td>\n",
       "      <td>0</td>\n",
       "      <td>1080.0</td>\n",
       "      <td>1656</td>\n",
       "      <td>7</td>\n",
       "      <td>1656</td>\n",
       "      <td>6</td>\n",
       "      <td>5</td>\n",
       "      <td>...</td>\n",
       "      <td>2</td>\n",
       "      <td>good</td>\n",
       "      <td>bad</td>\n",
       "      <td>3</td>\n",
       "      <td>1</td>\n",
       "      <td>5</td>\n",
       "      <td>2010</td>\n",
       "      <td>0</td>\n",
       "      <td>0</td>\n",
       "      <td>1960</td>\n",
       "    </tr>\n",
       "    <tr>\n",
       "      <th>2</th>\n",
       "      <td>105000</td>\n",
       "      <td>1.0</td>\n",
       "      <td>730.0</td>\n",
       "      <td>0</td>\n",
       "      <td>882.0</td>\n",
       "      <td>896</td>\n",
       "      <td>5</td>\n",
       "      <td>896</td>\n",
       "      <td>5</td>\n",
       "      <td>6</td>\n",
       "      <td>...</td>\n",
       "      <td>0</td>\n",
       "      <td>NaN</td>\n",
       "      <td>bad</td>\n",
       "      <td>2</td>\n",
       "      <td>1</td>\n",
       "      <td>6</td>\n",
       "      <td>2010</td>\n",
       "      <td>0</td>\n",
       "      <td>0</td>\n",
       "      <td>1961</td>\n",
       "    </tr>\n",
       "    <tr>\n",
       "      <th>3</th>\n",
       "      <td>172000</td>\n",
       "      <td>1.0</td>\n",
       "      <td>312.0</td>\n",
       "      <td>0</td>\n",
       "      <td>1329.0</td>\n",
       "      <td>1329</td>\n",
       "      <td>6</td>\n",
       "      <td>1329</td>\n",
       "      <td>6</td>\n",
       "      <td>6</td>\n",
       "      <td>...</td>\n",
       "      <td>0</td>\n",
       "      <td>NaN</td>\n",
       "      <td>good</td>\n",
       "      <td>3</td>\n",
       "      <td>1</td>\n",
       "      <td>6</td>\n",
       "      <td>2010</td>\n",
       "      <td>1</td>\n",
       "      <td>0</td>\n",
       "      <td>1958</td>\n",
       "    </tr>\n",
       "    <tr>\n",
       "      <th>4</th>\n",
       "      <td>244000</td>\n",
       "      <td>2.0</td>\n",
       "      <td>522.0</td>\n",
       "      <td>0</td>\n",
       "      <td>2110.0</td>\n",
       "      <td>2110</td>\n",
       "      <td>8</td>\n",
       "      <td>2110</td>\n",
       "      <td>7</td>\n",
       "      <td>5</td>\n",
       "      <td>...</td>\n",
       "      <td>2</td>\n",
       "      <td>bad</td>\n",
       "      <td>amazing</td>\n",
       "      <td>3</td>\n",
       "      <td>1</td>\n",
       "      <td>4</td>\n",
       "      <td>2010</td>\n",
       "      <td>1</td>\n",
       "      <td>0</td>\n",
       "      <td>1968</td>\n",
       "    </tr>\n",
       "    <tr>\n",
       "      <th>5</th>\n",
       "      <td>189900</td>\n",
       "      <td>2.0</td>\n",
       "      <td>482.0</td>\n",
       "      <td>0</td>\n",
       "      <td>928.0</td>\n",
       "      <td>928</td>\n",
       "      <td>6</td>\n",
       "      <td>1629</td>\n",
       "      <td>5</td>\n",
       "      <td>5</td>\n",
       "      <td>...</td>\n",
       "      <td>1</td>\n",
       "      <td>bad</td>\n",
       "      <td>bad</td>\n",
       "      <td>3</td>\n",
       "      <td>1</td>\n",
       "      <td>3</td>\n",
       "      <td>2010</td>\n",
       "      <td>1</td>\n",
       "      <td>701</td>\n",
       "      <td>1998</td>\n",
       "    </tr>\n",
       "  </tbody>\n",
       "</table>\n",
       "<p>5 rows × 25 columns</p>\n",
       "</div>"
      ],
      "text/plain": [
       "    target  feature01  feature02  feature03  feature04  feature05  feature06  \\\n",
       "id                                                                             \n",
       "1   215000        2.0      528.0          0     1080.0       1656          7   \n",
       "2   105000        1.0      730.0          0      882.0        896          5   \n",
       "3   172000        1.0      312.0          0     1329.0       1329          6   \n",
       "4   244000        2.0      522.0          0     2110.0       2110          8   \n",
       "5   189900        2.0      482.0          0      928.0        928          6   \n",
       "\n",
       "    feature07  feature08  feature09  ...  feature14  feature15 feature16  \\\n",
       "id                                   ...                                   \n",
       "1        1656          6          5  ...          2       good       bad   \n",
       "2         896          5          6  ...          0        NaN       bad   \n",
       "3        1329          6          6  ...          0        NaN      good   \n",
       "4        2110          7          5  ...          2        bad   amazing   \n",
       "5        1629          5          5  ...          1        bad       bad   \n",
       "\n",
       "   feature17 feature18  feature19 feature20 feature21  feature22  feature23  \n",
       "id                                                                           \n",
       "1          3         1          5      2010         0          0       1960  \n",
       "2          2         1          6      2010         0          0       1961  \n",
       "3          3         1          6      2010         1          0       1958  \n",
       "4          3         1          4      2010         1          0       1968  \n",
       "5          3         1          3      2010         1        701       1998  \n",
       "\n",
       "[5 rows x 25 columns]"
      ]
     },
     "execution_count": 232,
     "metadata": {},
     "output_type": "execute_result"
    }
   ],
   "source": [
    "pred_data.head()"
   ]
  },
  {
   "cell_type": "code",
   "execution_count": 233,
   "metadata": {},
   "outputs": [
    {
     "data": {
      "text/html": [
       "<div>\n",
       "<style scoped>\n",
       "    .dataframe tbody tr th:only-of-type {\n",
       "        vertical-align: middle;\n",
       "    }\n",
       "\n",
       "    .dataframe tbody tr th {\n",
       "        vertical-align: top;\n",
       "    }\n",
       "\n",
       "    .dataframe thead th {\n",
       "        text-align: right;\n",
       "    }\n",
       "</style>\n",
       "<table border=\"1\" class=\"dataframe\">\n",
       "  <thead>\n",
       "    <tr style=\"text-align: right;\">\n",
       "      <th></th>\n",
       "      <th>target</th>\n",
       "      <th>feature01</th>\n",
       "      <th>feature02</th>\n",
       "      <th>feature03</th>\n",
       "      <th>feature04</th>\n",
       "      <th>feature05</th>\n",
       "      <th>feature06</th>\n",
       "      <th>feature07</th>\n",
       "      <th>feature08</th>\n",
       "      <th>feature09</th>\n",
       "      <th>...</th>\n",
       "      <th>feature14</th>\n",
       "      <th>feature15</th>\n",
       "      <th>feature16</th>\n",
       "      <th>feature17</th>\n",
       "      <th>feature18</th>\n",
       "      <th>feature19</th>\n",
       "      <th>feature20</th>\n",
       "      <th>feature21</th>\n",
       "      <th>feature22</th>\n",
       "      <th>feature23</th>\n",
       "    </tr>\n",
       "    <tr>\n",
       "      <th>id</th>\n",
       "      <th></th>\n",
       "      <th></th>\n",
       "      <th></th>\n",
       "      <th></th>\n",
       "      <th></th>\n",
       "      <th></th>\n",
       "      <th></th>\n",
       "      <th></th>\n",
       "      <th></th>\n",
       "      <th></th>\n",
       "      <th></th>\n",
       "      <th></th>\n",
       "      <th></th>\n",
       "      <th></th>\n",
       "      <th></th>\n",
       "      <th></th>\n",
       "      <th></th>\n",
       "      <th></th>\n",
       "      <th></th>\n",
       "      <th></th>\n",
       "      <th></th>\n",
       "    </tr>\n",
       "  </thead>\n",
       "  <tbody>\n",
       "    <tr>\n",
       "      <th>2926</th>\n",
       "      <td>142500</td>\n",
       "      <td>2.0</td>\n",
       "      <td>588.0</td>\n",
       "      <td>0</td>\n",
       "      <td>1003.0</td>\n",
       "      <td>1003</td>\n",
       "      <td>6</td>\n",
       "      <td>1003</td>\n",
       "      <td>6</td>\n",
       "      <td>6</td>\n",
       "      <td>...</td>\n",
       "      <td>0</td>\n",
       "      <td>NaN</td>\n",
       "      <td>bad</td>\n",
       "      <td>3</td>\n",
       "      <td>1</td>\n",
       "      <td>3</td>\n",
       "      <td>2006</td>\n",
       "      <td>0</td>\n",
       "      <td>0</td>\n",
       "      <td>1984</td>\n",
       "    </tr>\n",
       "    <tr>\n",
       "      <th>2927</th>\n",
       "      <td>131000</td>\n",
       "      <td>2.0</td>\n",
       "      <td>484.0</td>\n",
       "      <td>0</td>\n",
       "      <td>864.0</td>\n",
       "      <td>902</td>\n",
       "      <td>5</td>\n",
       "      <td>902</td>\n",
       "      <td>5</td>\n",
       "      <td>5</td>\n",
       "      <td>...</td>\n",
       "      <td>0</td>\n",
       "      <td>NaN</td>\n",
       "      <td>bad</td>\n",
       "      <td>2</td>\n",
       "      <td>1</td>\n",
       "      <td>6</td>\n",
       "      <td>2006</td>\n",
       "      <td>0</td>\n",
       "      <td>0</td>\n",
       "      <td>1983</td>\n",
       "    </tr>\n",
       "    <tr>\n",
       "      <th>2928</th>\n",
       "      <td>132000</td>\n",
       "      <td>0.0</td>\n",
       "      <td>0.0</td>\n",
       "      <td>0</td>\n",
       "      <td>912.0</td>\n",
       "      <td>970</td>\n",
       "      <td>6</td>\n",
       "      <td>970</td>\n",
       "      <td>5</td>\n",
       "      <td>5</td>\n",
       "      <td>...</td>\n",
       "      <td>0</td>\n",
       "      <td>NaN</td>\n",
       "      <td>bad</td>\n",
       "      <td>3</td>\n",
       "      <td>1</td>\n",
       "      <td>7</td>\n",
       "      <td>2006</td>\n",
       "      <td>0</td>\n",
       "      <td>0</td>\n",
       "      <td>1992</td>\n",
       "    </tr>\n",
       "    <tr>\n",
       "      <th>2929</th>\n",
       "      <td>170000</td>\n",
       "      <td>2.0</td>\n",
       "      <td>418.0</td>\n",
       "      <td>0</td>\n",
       "      <td>1389.0</td>\n",
       "      <td>1389</td>\n",
       "      <td>6</td>\n",
       "      <td>1389</td>\n",
       "      <td>5</td>\n",
       "      <td>5</td>\n",
       "      <td>...</td>\n",
       "      <td>1</td>\n",
       "      <td>bad</td>\n",
       "      <td>bad</td>\n",
       "      <td>2</td>\n",
       "      <td>1</td>\n",
       "      <td>4</td>\n",
       "      <td>2006</td>\n",
       "      <td>0</td>\n",
       "      <td>0</td>\n",
       "      <td>1975</td>\n",
       "    </tr>\n",
       "    <tr>\n",
       "      <th>2930</th>\n",
       "      <td>188000</td>\n",
       "      <td>3.0</td>\n",
       "      <td>650.0</td>\n",
       "      <td>0</td>\n",
       "      <td>996.0</td>\n",
       "      <td>996</td>\n",
       "      <td>9</td>\n",
       "      <td>2000</td>\n",
       "      <td>7</td>\n",
       "      <td>5</td>\n",
       "      <td>...</td>\n",
       "      <td>1</td>\n",
       "      <td>bad</td>\n",
       "      <td>bad</td>\n",
       "      <td>3</td>\n",
       "      <td>1</td>\n",
       "      <td>11</td>\n",
       "      <td>2006</td>\n",
       "      <td>1</td>\n",
       "      <td>1004</td>\n",
       "      <td>1994</td>\n",
       "    </tr>\n",
       "  </tbody>\n",
       "</table>\n",
       "<p>5 rows × 25 columns</p>\n",
       "</div>"
      ],
      "text/plain": [
       "      target  feature01  feature02  feature03  feature04  feature05  \\\n",
       "id                                                                    \n",
       "2926  142500        2.0      588.0          0     1003.0       1003   \n",
       "2927  131000        2.0      484.0          0      864.0        902   \n",
       "2928  132000        0.0        0.0          0      912.0        970   \n",
       "2929  170000        2.0      418.0          0     1389.0       1389   \n",
       "2930  188000        3.0      650.0          0      996.0        996   \n",
       "\n",
       "      feature06  feature07  feature08  feature09  ...  feature14  feature15  \\\n",
       "id                                                ...                         \n",
       "2926          6       1003          6          6  ...          0        NaN   \n",
       "2927          5        902          5          5  ...          0        NaN   \n",
       "2928          6        970          5          5  ...          0        NaN   \n",
       "2929          6       1389          5          5  ...          1        bad   \n",
       "2930          9       2000          7          5  ...          1        bad   \n",
       "\n",
       "     feature16 feature17 feature18  feature19 feature20 feature21  feature22  \\\n",
       "id                                                                             \n",
       "2926       bad         3         1          3      2006         0          0   \n",
       "2927       bad         2         1          6      2006         0          0   \n",
       "2928       bad         3         1          7      2006         0          0   \n",
       "2929       bad         2         1          4      2006         0          0   \n",
       "2930       bad         3         1         11      2006         1       1004   \n",
       "\n",
       "      feature23  \n",
       "id               \n",
       "2926       1984  \n",
       "2927       1983  \n",
       "2928       1992  \n",
       "2929       1975  \n",
       "2930       1994  \n",
       "\n",
       "[5 rows x 25 columns]"
      ]
     },
     "execution_count": 233,
     "metadata": {},
     "output_type": "execute_result"
    }
   ],
   "source": [
    "pred_data.tail()"
   ]
  },
  {
   "cell_type": "markdown",
   "metadata": {},
   "source": [
    "Qualitative (categorical) features include feature 10, 11, 12, 13, 15, 16, 20 and 23. 15 and 16 have categories (quality / animals etc), and 10, 20 and 23 are years which are set points.\n",
    "\n",
    "I will convert the categorical features that contain text to dummies. 10, 20 and 23 will remain the same.\n",
    "\n",
    "The rest of the features are quantative / numerical."
   ]
  },
  {
   "cell_type": "code",
   "execution_count": 234,
   "metadata": {},
   "outputs": [
    {
     "name": "stdout",
     "output_type": "stream",
     "text": [
      "[nan 'Pave' 'Grvl']\n",
      "[nan 'dog' 'cat' 'cow' 'frog']\n",
      "['red' 'blue' 'green' 'yellow' nan 'pink']\n",
      "['good' nan 'bad' 'horrible' 'amazing' 'okay']\n",
      "['bad' 'good' 'amazing' 'okay' 'horrible']\n"
     ]
    }
   ],
   "source": [
    "#Checking what the unique values are in feature 11, 12 and 13\n",
    "print(pred_data['feature11'].unique())\n",
    "print(pred_data['feature12'].unique())\n",
    "print(pred_data['feature13'].unique())\n",
    "print(pred_data['feature15'].unique())\n",
    "print(pred_data['feature16'].unique())"
   ]
  },
  {
   "cell_type": "code",
   "execution_count": 235,
   "metadata": {},
   "outputs": [],
   "source": [
    "#Creating dummies of the above\n",
    "pred_data = pd.concat([pred_data, pd.get_dummies(pred_data['feature11'], prefix=None)],axis=1)\n",
    "pred_data = pd.concat([pred_data, pd.get_dummies(pred_data['feature12'], prefix=None)],axis=1)\n",
    "pred_data = pd.concat([pred_data, pd.get_dummies(pred_data['feature13'], prefix=None)],axis=1)\n",
    "pred_data = pd.concat([pred_data, pd.get_dummies(pred_data['feature15'], prefix='f15')],axis=1)\n",
    "pred_data = pd.concat([pred_data, pd.get_dummies(pred_data['feature16'], prefix='f16')],axis=1)"
   ]
  },
  {
   "cell_type": "code",
   "execution_count": 236,
   "metadata": {},
   "outputs": [],
   "source": [
    "#Gathering the columns to drop\n",
    "cols_to_drop = pred_data[['feature11', 'feature12', 'feature13', 'feature15', 'feature16']]\n",
    "#Dropping the columns\n",
    "pred_data.drop(cols_to_drop, axis=1, inplace=True)"
   ]
  },
  {
   "cell_type": "code",
   "execution_count": 237,
   "metadata": {},
   "outputs": [
    {
     "data": {
      "text/html": [
       "<div>\n",
       "<style scoped>\n",
       "    .dataframe tbody tr th:only-of-type {\n",
       "        vertical-align: middle;\n",
       "    }\n",
       "\n",
       "    .dataframe tbody tr th {\n",
       "        vertical-align: top;\n",
       "    }\n",
       "\n",
       "    .dataframe thead th {\n",
       "        text-align: right;\n",
       "    }\n",
       "</style>\n",
       "<table border=\"1\" class=\"dataframe\">\n",
       "  <thead>\n",
       "    <tr style=\"text-align: right;\">\n",
       "      <th></th>\n",
       "      <th>target</th>\n",
       "      <th>feature01</th>\n",
       "      <th>feature02</th>\n",
       "      <th>feature03</th>\n",
       "      <th>feature04</th>\n",
       "      <th>feature05</th>\n",
       "      <th>feature06</th>\n",
       "      <th>feature07</th>\n",
       "      <th>feature08</th>\n",
       "      <th>feature09</th>\n",
       "      <th>...</th>\n",
       "      <th>f15_amazing</th>\n",
       "      <th>f15_bad</th>\n",
       "      <th>f15_good</th>\n",
       "      <th>f15_horrible</th>\n",
       "      <th>f15_okay</th>\n",
       "      <th>f16_amazing</th>\n",
       "      <th>f16_bad</th>\n",
       "      <th>f16_good</th>\n",
       "      <th>f16_horrible</th>\n",
       "      <th>f16_okay</th>\n",
       "    </tr>\n",
       "    <tr>\n",
       "      <th>id</th>\n",
       "      <th></th>\n",
       "      <th></th>\n",
       "      <th></th>\n",
       "      <th></th>\n",
       "      <th></th>\n",
       "      <th></th>\n",
       "      <th></th>\n",
       "      <th></th>\n",
       "      <th></th>\n",
       "      <th></th>\n",
       "      <th></th>\n",
       "      <th></th>\n",
       "      <th></th>\n",
       "      <th></th>\n",
       "      <th></th>\n",
       "      <th></th>\n",
       "      <th></th>\n",
       "      <th></th>\n",
       "      <th></th>\n",
       "      <th></th>\n",
       "      <th></th>\n",
       "    </tr>\n",
       "  </thead>\n",
       "  <tbody>\n",
       "    <tr>\n",
       "      <th>1</th>\n",
       "      <td>215000</td>\n",
       "      <td>2.0</td>\n",
       "      <td>528.0</td>\n",
       "      <td>0</td>\n",
       "      <td>1080.0</td>\n",
       "      <td>1656</td>\n",
       "      <td>7</td>\n",
       "      <td>1656</td>\n",
       "      <td>6</td>\n",
       "      <td>5</td>\n",
       "      <td>...</td>\n",
       "      <td>0</td>\n",
       "      <td>0</td>\n",
       "      <td>1</td>\n",
       "      <td>0</td>\n",
       "      <td>0</td>\n",
       "      <td>0</td>\n",
       "      <td>1</td>\n",
       "      <td>0</td>\n",
       "      <td>0</td>\n",
       "      <td>0</td>\n",
       "    </tr>\n",
       "    <tr>\n",
       "      <th>2</th>\n",
       "      <td>105000</td>\n",
       "      <td>1.0</td>\n",
       "      <td>730.0</td>\n",
       "      <td>0</td>\n",
       "      <td>882.0</td>\n",
       "      <td>896</td>\n",
       "      <td>5</td>\n",
       "      <td>896</td>\n",
       "      <td>5</td>\n",
       "      <td>6</td>\n",
       "      <td>...</td>\n",
       "      <td>0</td>\n",
       "      <td>0</td>\n",
       "      <td>0</td>\n",
       "      <td>0</td>\n",
       "      <td>0</td>\n",
       "      <td>0</td>\n",
       "      <td>1</td>\n",
       "      <td>0</td>\n",
       "      <td>0</td>\n",
       "      <td>0</td>\n",
       "    </tr>\n",
       "    <tr>\n",
       "      <th>3</th>\n",
       "      <td>172000</td>\n",
       "      <td>1.0</td>\n",
       "      <td>312.0</td>\n",
       "      <td>0</td>\n",
       "      <td>1329.0</td>\n",
       "      <td>1329</td>\n",
       "      <td>6</td>\n",
       "      <td>1329</td>\n",
       "      <td>6</td>\n",
       "      <td>6</td>\n",
       "      <td>...</td>\n",
       "      <td>0</td>\n",
       "      <td>0</td>\n",
       "      <td>0</td>\n",
       "      <td>0</td>\n",
       "      <td>0</td>\n",
       "      <td>0</td>\n",
       "      <td>0</td>\n",
       "      <td>1</td>\n",
       "      <td>0</td>\n",
       "      <td>0</td>\n",
       "    </tr>\n",
       "    <tr>\n",
       "      <th>4</th>\n",
       "      <td>244000</td>\n",
       "      <td>2.0</td>\n",
       "      <td>522.0</td>\n",
       "      <td>0</td>\n",
       "      <td>2110.0</td>\n",
       "      <td>2110</td>\n",
       "      <td>8</td>\n",
       "      <td>2110</td>\n",
       "      <td>7</td>\n",
       "      <td>5</td>\n",
       "      <td>...</td>\n",
       "      <td>0</td>\n",
       "      <td>1</td>\n",
       "      <td>0</td>\n",
       "      <td>0</td>\n",
       "      <td>0</td>\n",
       "      <td>1</td>\n",
       "      <td>0</td>\n",
       "      <td>0</td>\n",
       "      <td>0</td>\n",
       "      <td>0</td>\n",
       "    </tr>\n",
       "    <tr>\n",
       "      <th>5</th>\n",
       "      <td>189900</td>\n",
       "      <td>2.0</td>\n",
       "      <td>482.0</td>\n",
       "      <td>0</td>\n",
       "      <td>928.0</td>\n",
       "      <td>928</td>\n",
       "      <td>6</td>\n",
       "      <td>1629</td>\n",
       "      <td>5</td>\n",
       "      <td>5</td>\n",
       "      <td>...</td>\n",
       "      <td>0</td>\n",
       "      <td>1</td>\n",
       "      <td>0</td>\n",
       "      <td>0</td>\n",
       "      <td>0</td>\n",
       "      <td>0</td>\n",
       "      <td>1</td>\n",
       "      <td>0</td>\n",
       "      <td>0</td>\n",
       "      <td>0</td>\n",
       "    </tr>\n",
       "  </tbody>\n",
       "</table>\n",
       "<p>5 rows × 41 columns</p>\n",
       "</div>"
      ],
      "text/plain": [
       "    target  feature01  feature02  feature03  feature04  feature05  feature06  \\\n",
       "id                                                                             \n",
       "1   215000        2.0      528.0          0     1080.0       1656          7   \n",
       "2   105000        1.0      730.0          0      882.0        896          5   \n",
       "3   172000        1.0      312.0          0     1329.0       1329          6   \n",
       "4   244000        2.0      522.0          0     2110.0       2110          8   \n",
       "5   189900        2.0      482.0          0      928.0        928          6   \n",
       "\n",
       "    feature07  feature08  feature09  ...  f15_amazing  f15_bad  f15_good  \\\n",
       "id                                   ...                                   \n",
       "1        1656          6          5  ...            0        0         1   \n",
       "2         896          5          6  ...            0        0         0   \n",
       "3        1329          6          6  ...            0        0         0   \n",
       "4        2110          7          5  ...            0        1         0   \n",
       "5        1629          5          5  ...            0        1         0   \n",
       "\n",
       "    f15_horrible  f15_okay  f16_amazing  f16_bad  f16_good  f16_horrible  \\\n",
       "id                                                                         \n",
       "1              0         0            0        1         0             0   \n",
       "2              0         0            0        1         0             0   \n",
       "3              0         0            0        0         1             0   \n",
       "4              0         0            1        0         0             0   \n",
       "5              0         0            0        1         0             0   \n",
       "\n",
       "    f16_okay  \n",
       "id            \n",
       "1          0  \n",
       "2          0  \n",
       "3          0  \n",
       "4          0  \n",
       "5          0  \n",
       "\n",
       "[5 rows x 41 columns]"
      ]
     },
     "execution_count": 237,
     "metadata": {},
     "output_type": "execute_result"
    }
   ],
   "source": [
    "pred_data.head()"
   ]
  },
  {
   "cell_type": "code",
   "execution_count": 238,
   "metadata": {},
   "outputs": [
    {
     "name": "stdout",
     "output_type": "stream",
     "text": [
      "target          0\n",
      "feature01       1\n",
      "feature02       1\n",
      "feature03       0\n",
      "feature04       1\n",
      "feature05       0\n",
      "feature06       0\n",
      "feature07       0\n",
      "feature08       0\n",
      "feature09       0\n",
      "feature10       0\n",
      "feature10.1     0\n",
      "feature14       0\n",
      "feature17       0\n",
      "feature18       0\n",
      "feature19       0\n",
      "feature20       0\n",
      "feature21       0\n",
      "feature22       0\n",
      "feature23       0\n",
      "Grvl            0\n",
      "Pave            0\n",
      "cat             0\n",
      "cow             0\n",
      "dog             0\n",
      "frog            0\n",
      "blue            0\n",
      "green           0\n",
      "pink            0\n",
      "red             0\n",
      "yellow          0\n",
      "f15_amazing     0\n",
      "f15_bad         0\n",
      "f15_good        0\n",
      "f15_horrible    0\n",
      "f15_okay        0\n",
      "f16_amazing     0\n",
      "f16_bad         0\n",
      "f16_good        0\n",
      "f16_horrible    0\n",
      "f16_okay        0\n",
      "dtype: int64\n"
     ]
    }
   ],
   "source": [
    "#Checking for na values\n",
    "nan_per_col = pred_data.isna().sum()\n",
    "print(nan_per_col)"
   ]
  },
  {
   "cell_type": "code",
   "execution_count": 239,
   "metadata": {},
   "outputs": [],
   "source": [
    "#Feature 1, 2 and 4 contains one na value each so will remove these rows as there's so few\n",
    "pred_data.dropna(subset = [\"feature01\"], inplace=True)\n",
    "pred_data.dropna(subset = [\"feature02\"], inplace=True)\n",
    "pred_data.dropna(subset = [\"feature04\"], inplace=True)\n",
    "#When running above 'Checking for nan' it now shows 0 on all columns, and when going back to info() only two rows were removed"
   ]
  },
  {
   "cell_type": "code",
   "execution_count": 240,
   "metadata": {},
   "outputs": [
    {
     "data": {
      "image/png": "[encoded data removed]",
      "text/plain": [
       "<Figure size 432x288 with 1 Axes>"
      ]
     },
     "metadata": {
      "needs_background": "light"
     },
     "output_type": "display_data"
    }
   ],
   "source": [
    "fig, ax = plt.subplots()\n",
    "plt.hist(pred_data['target'], bins=20)\n",
    "plt.show()"
   ]
  },
  {
   "cell_type": "markdown",
   "metadata": {},
   "source": [
    "When viewing scatterplots later on there is one major outlier, and a few strays. I'll be using rows under 400 000 as this improved the results in my models."
   ]
  },
  {
   "cell_type": "code",
   "execution_count": 241,
   "metadata": {},
   "outputs": [],
   "source": [
    "#Creating copy of df\n",
    "pred_data_copy = pred_data"
   ]
  },
  {
   "cell_type": "code",
   "execution_count": 242,
   "metadata": {},
   "outputs": [],
   "source": [
    "pred_data = pred_data[pred_data.target <= 400000]"
   ]
  },
  {
   "cell_type": "code",
   "execution_count": 243,
   "metadata": {},
   "outputs": [
    {
     "data": {
      "image/png": "[encoded data removed]",
      "text/plain": [
       "<Figure size 432x288 with 1 Axes>"
      ]
     },
     "metadata": {
      "needs_background": "light"
     },
     "output_type": "display_data"
    }
   ],
   "source": [
    "fig, ax = plt.subplots()\n",
    "plt.hist(pred_data['target'], bins=20)\n",
    "plt.show()"
   ]
  },
  {
   "cell_type": "markdown",
   "metadata": {},
   "source": [
    "Creating models and training it with full dataset and RobustScaler"
   ]
  },
  {
   "cell_type": "code",
   "execution_count": 244,
   "metadata": {},
   "outputs": [],
   "source": [
    "#Splitting into test and train\n",
    "X = pred_data.drop('target', axis=1)\n",
    "feature_names = X.columns\n",
    "robust_scaler = RobustScaler()\n",
    "X = robust_scaler.fit_transform(X)\n",
    "y = pred_data['target']\n",
    "x_train, x_test, y_train, y_test = train_test_split(X, y, test_size=0.2, random_state=42)\n"
   ]
  },
  {
   "cell_type": "code",
   "execution_count": 245,
   "metadata": {},
   "outputs": [],
   "source": [
    "#Creating dataframe for analysing models\n",
    "models = pd.DataFrame(index=['train_mse', 'test_mse'], \n",
    "                      columns=['NULL', 'MLR', 'KNN', 'LASSO'])"
   ]
  },
  {
   "cell_type": "code",
   "execution_count": 246,
   "metadata": {},
   "outputs": [],
   "source": [
    "#NULL\n",
    "y_pred_null = y_train.mean()\n",
    "models.loc['train_mse','NULL'] = mean_squared_error(y_pred=np.repeat(y_pred_null, y_train.size), y_true=y_train)\n",
    "models.loc['test_mse','NULL'] = mean_squared_error(y_pred=np.repeat(y_pred_null, y_test.size), y_true=y_test)"
   ]
  },
  {
   "cell_type": "code",
   "execution_count": 247,
   "metadata": {},
   "outputs": [],
   "source": [
    "#MLR\n",
    "linear_regression = LinearRegression()\n",
    "linear_regression.fit(x_train, y_train)\n",
    "models.loc['train_mse','MLR'] = mean_squared_error(y_pred=linear_regression.predict(x_train), y_true=y_train)\n",
    "models.loc['test_mse','MLR'] = mean_squared_error(y_pred=linear_regression.predict(x_test), y_true=y_test)\n",
    "models.loc['test_r2', 'MLR'] = r2_score(y_pred=linear_regression.predict(x_test), y_true=y_test)"
   ]
  },
  {
   "cell_type": "code",
   "execution_count": 248,
   "metadata": {},
   "outputs": [
    {
     "name": "stderr",
     "output_type": "stream",
     "text": [
      "/Users/jenny.wade@schibsted.com/opt/miniconda3/envs/pred/lib/python3.9/site-packages/sklearn/linear_model/_coordinate_descent.py:647: ConvergenceWarning: Objective did not converge. You might want to increase the number of iterations, check the scale of the features or consider increasing regularisation. Duality gap: 1.698e+11, tolerance: 9.935e+08\n",
      "  model = cd_fast.enet_coordinate_descent(\n"
     ]
    }
   ],
   "source": [
    "#Lasso\n",
    "lasso = Lasso(alpha=0.05)\n",
    "lasso.fit(x_train, y_train)\n",
    "models.loc['train_mse','LASSO'] = mean_squared_error(y_pred=lasso.predict(x_train), y_true=y_train)\n",
    "models.loc['test_mse','LASSO'] = mean_squared_error(y_pred=lasso.predict(x_test), y_true=y_test)\n",
    "models.loc['test_r2', 'LASSO'] = r2_score(y_pred=lasso.predict(x_test), y_true=y_test)"
   ]
  },
  {
   "cell_type": "code",
   "execution_count": 249,
   "metadata": {},
   "outputs": [],
   "source": [
    "#KNN\n",
    "knn = KNeighborsRegressor(n_neighbors=30, weights='distance', metric='euclidean', n_jobs=-1)\n",
    "knn.fit(x_train, y_train)\n",
    "models.loc['train_mse','KNN'] = mean_squared_error(y_pred=knn.predict(x_train), y_true=y_train)\n",
    "models.loc['test_mse','KNN'] = mean_squared_error(y_pred=knn.predict(x_test), y_true=y_test)\n",
    "models.loc['test_r2', 'KNN'] = r2_score(y_pred=knn.predict(x_test), y_true=y_test)"
   ]
  },
  {
   "cell_type": "code",
   "execution_count": 250,
   "metadata": {},
   "outputs": [
    {
     "data": {
      "text/html": [
       "<div>\n",
       "<style scoped>\n",
       "    .dataframe tbody tr th:only-of-type {\n",
       "        vertical-align: middle;\n",
       "    }\n",
       "\n",
       "    .dataframe tbody tr th {\n",
       "        vertical-align: top;\n",
       "    }\n",
       "\n",
       "    .dataframe thead th {\n",
       "        text-align: right;\n",
       "    }\n",
       "</style>\n",
       "<table border=\"1\" class=\"dataframe\">\n",
       "  <thead>\n",
       "    <tr style=\"text-align: right;\">\n",
       "      <th></th>\n",
       "      <th>NULL</th>\n",
       "      <th>MLR</th>\n",
       "      <th>KNN</th>\n",
       "      <th>LASSO</th>\n",
       "    </tr>\n",
       "  </thead>\n",
       "  <tbody>\n",
       "    <tr>\n",
       "      <th>train_mse</th>\n",
       "      <td>4336335917.904231</td>\n",
       "      <td>763547816.853986</td>\n",
       "      <td>40549.604758</td>\n",
       "      <td>763547990.324104</td>\n",
       "    </tr>\n",
       "    <tr>\n",
       "      <th>test_mse</th>\n",
       "      <td>4569145233.881576</td>\n",
       "      <td>673533678.823649</td>\n",
       "      <td>719220102.97621</td>\n",
       "      <td>673537919.328139</td>\n",
       "    </tr>\n",
       "    <tr>\n",
       "      <th>test_r2</th>\n",
       "      <td>NaN</td>\n",
       "      <td>0.851972</td>\n",
       "      <td>0.841931</td>\n",
       "      <td>0.851971</td>\n",
       "    </tr>\n",
       "  </tbody>\n",
       "</table>\n",
       "</div>"
      ],
      "text/plain": [
       "                        NULL               MLR              KNN  \\\n",
       "train_mse  4336335917.904231  763547816.853986     40549.604758   \n",
       "test_mse   4569145233.881576  673533678.823649  719220102.97621   \n",
       "test_r2                  NaN          0.851972         0.841931   \n",
       "\n",
       "                      LASSO  \n",
       "train_mse  763547990.324104  \n",
       "test_mse   673537919.328139  \n",
       "test_r2            0.851971  "
      ]
     },
     "execution_count": 250,
     "metadata": {},
     "output_type": "execute_result"
    }
   ],
   "source": [
    "models"
   ]
  },
  {
   "cell_type": "code",
   "execution_count": 251,
   "metadata": {},
   "outputs": [
    {
     "data": {
      "text/plain": [
       "<matplotlib.legend.Legend at 0x7faba810fd90>"
      ]
     },
     "execution_count": 251,
     "metadata": {},
     "output_type": "execute_result"
    },
    {
     "data": {
      "image/png": "[encoded data removed]",
      "text/plain": [
       "<Figure size 432x288 with 1 Axes>"
      ]
     },
     "metadata": {
      "needs_background": "light"
     },
     "output_type": "display_data"
    }
   ],
   "source": [
    "fig, ax = plt.subplots()\n",
    "models.loc['test_mse'].plot(kind='barh', ax=ax)\n",
    "ax.set_title('Test MSE')\n",
    "ax.legend(loc=8, ncol=4)"
   ]
  },
  {
   "cell_type": "code",
   "execution_count": 252,
   "metadata": {},
   "outputs": [
    {
     "data": {
      "text/plain": [
       "<matplotlib.legend.Legend at 0x7fabda57e250>"
      ]
     },
     "execution_count": 252,
     "metadata": {},
     "output_type": "execute_result"
    },
    {
     "data": {
      "image/png": "[encoded data removed]",
      "text/plain": [
       "<Figure size 576x360 with 1 Axes>"
      ]
     },
     "metadata": {
      "needs_background": "light"
     },
     "output_type": "display_data"
    }
   ],
   "source": [
    "fig, ax = plt.subplots(figsize=(8,5))\n",
    "models.loc['test_r2'].plot(kind='barh', ax=ax)\n",
    "ax.set_title('Test R2')\n",
    "ax.legend(loc=8, ncol=4)"
   ]
  },
  {
   "cell_type": "code",
   "execution_count": 253,
   "metadata": {},
   "outputs": [
    {
     "data": {
      "text/plain": [
       "[<matplotlib.lines.Line2D at 0x7fab88aeefd0>]"
      ]
     },
     "execution_count": 253,
     "metadata": {},
     "output_type": "execute_result"
    },
    {
     "data": {
      "image/png": "[encoded data removed]",
      "text/plain": [
       "<Figure size 576x360 with 1 Axes>"
      ]
     },
     "metadata": {
      "needs_background": "light"
     },
     "output_type": "display_data"
    }
   ],
   "source": [
    "#MLR seems to be the best model\n",
    "fig, ax = plt.subplots(figsize=(8,5))\n",
    "ax.scatter(linear_regression.predict(x_test), y_test, s=4)\n",
    "ax.plot(y_test, y_test, color='red')"
   ]
  },
  {
   "cell_type": "markdown",
   "metadata": {},
   "source": [
    "Now trying the same models with our top correlated features"
   ]
  },
  {
   "cell_type": "code",
   "execution_count": 254,
   "metadata": {},
   "outputs": [
    {
     "data": {
      "text/plain": [
       "['feature08',\n",
       " 'feature07',\n",
       " 'feature01',\n",
       " 'feature02',\n",
       " 'feature10',\n",
       " 'feature04',\n",
       " 'feature05',\n",
       " 'feature23',\n",
       " 'feature10.1',\n",
       " 'f16_bad']"
      ]
     },
     "execution_count": 254,
     "metadata": {},
     "output_type": "execute_result"
    }
   ],
   "source": [
    "#Checking features based on correlation to target\n",
    "t10_corr_features = pred_data.corr().loc['target'].apply(np.abs).sort_values(ascending=False).index[1:11]\n",
    "t10_corr_features = list(t10_corr_features)\n",
    "t10_corr_features"
   ]
  },
  {
   "cell_type": "code",
   "execution_count": 255,
   "metadata": {},
   "outputs": [],
   "source": [
    "#Splitting into data again using our top features\n",
    "target_name = 'target'\n",
    "X = pred_data[t10_corr_features]\n",
    "y = pred_data[target_name]\n",
    "x_train, x_test, y_train, y_test = train_test_split(X, y, test_size=0.2, random_state=123)\n",
    "\n"
   ]
  },
  {
   "cell_type": "code",
   "execution_count": 256,
   "metadata": {},
   "outputs": [],
   "source": [
    "#NULL\n",
    "y_pred_null = y_train.mean()\n",
    "models.loc['train_mse','T10_NULL'] = mean_squared_error(y_pred=np.repeat(y_pred_null, y_train.size), y_true=y_train)\n",
    "models.loc['test_mse','T10_NULL'] = mean_squared_error(y_pred=np.repeat(y_pred_null, y_test.size), y_true=y_test)\n",
    "\n",
    "#MLR\n",
    "linear_regression = LinearRegression()\n",
    "linear_regression.fit(x_train, y_train)\n",
    "models.loc['train_mse','T10_MLR'] = mean_squared_error(y_pred=linear_regression.predict(x_train), y_true=y_train)\n",
    "models.loc['test_mse','T10_MLR'] = mean_squared_error(y_pred=linear_regression.predict(x_test), y_true=y_test)\n",
    "models.loc['test_r2', 'T10_MLR'] = r2_score(y_pred=linear_regression.predict(x_test), y_true=y_test)\n",
    "\n",
    "#Lasso\n",
    "lasso = Lasso(alpha=0.1)\n",
    "lasso.fit(x_train, y_train)\n",
    "models.loc['train_mse','T10_LASSO'] = mean_squared_error(y_pred=lasso.predict(x_train), y_true=y_train)\n",
    "models.loc['test_mse','T10_LASSO'] = mean_squared_error(y_pred=lasso.predict(x_test), y_true=y_test)\n",
    "models.loc['test_r2', 'T10_LASSO'] = r2_score(y_pred=lasso.predict(x_test), y_true=y_test)\n",
    "\n",
    "#KNN\n",
    "knn = KNeighborsRegressor(n_neighbors=30, weights='distance', metric='euclidean', n_jobs=-1)\n",
    "knn.fit(x_train, y_train)\n",
    "models.loc['train_mse','T10_KNN'] = mean_squared_error(y_pred=knn.predict(x_train), y_true=y_train)\n",
    "models.loc['test_mse','T10_KNN'] = mean_squared_error(y_pred=knn.predict(x_test), y_true=y_test)\n",
    "models.loc['test_r2', 'T10_KNN'] = r2_score(y_pred=knn.predict(x_test), y_true=y_test)"
   ]
  },
  {
   "cell_type": "code",
   "execution_count": 257,
   "metadata": {},
   "outputs": [
    {
     "data": {
      "text/plain": [
       "<matplotlib.legend.Legend at 0x7fab88288b20>"
      ]
     },
     "execution_count": 257,
     "metadata": {},
     "output_type": "execute_result"
    },
    {
     "data": {
      "image/png": "[encoded data removed]",
      "text/plain": [
       "<Figure size 576x360 with 1 Axes>"
      ]
     },
     "metadata": {
      "needs_background": "light"
     },
     "output_type": "display_data"
    }
   ],
   "source": [
    "#Checking our models again\n",
    "fig, ax = plt.subplots(figsize=(8,5))\n",
    "models.loc['test_mse'].plot(kind='barh', ax=ax)\n",
    "ax.set_title('Test MSE for Regression Models')\n",
    "ax.legend(loc=8, ncol=4)"
   ]
  },
  {
   "cell_type": "code",
   "execution_count": 258,
   "metadata": {},
   "outputs": [
    {
     "data": {
      "text/plain": [
       "<matplotlib.legend.Legend at 0x7fabda5064f0>"
      ]
     },
     "execution_count": 258,
     "metadata": {},
     "output_type": "execute_result"
    },
    {
     "data": {
      "image/png": "[encoded data removed]",
      "text/plain": [
       "<Figure size 576x360 with 1 Axes>"
      ]
     },
     "metadata": {
      "needs_background": "light"
     },
     "output_type": "display_data"
    }
   ],
   "source": [
    "fig, ax = plt.subplots(figsize=(8,5))\n",
    "models.loc['test_r2'].plot(kind='barh', ax=ax)\n",
    "ax.set_title('Test R2')\n",
    "ax.legend(loc=8, ncol=4)"
   ]
  },
  {
   "cell_type": "code",
   "execution_count": 259,
   "metadata": {},
   "outputs": [
    {
     "data": {
      "text/html": [
       "<div>\n",
       "<style scoped>\n",
       "    .dataframe tbody tr th:only-of-type {\n",
       "        vertical-align: middle;\n",
       "    }\n",
       "\n",
       "    .dataframe tbody tr th {\n",
       "        vertical-align: top;\n",
       "    }\n",
       "\n",
       "    .dataframe thead th {\n",
       "        text-align: right;\n",
       "    }\n",
       "</style>\n",
       "<table border=\"1\" class=\"dataframe\">\n",
       "  <thead>\n",
       "    <tr style=\"text-align: right;\">\n",
       "      <th></th>\n",
       "      <th>NULL</th>\n",
       "      <th>MLR</th>\n",
       "      <th>KNN</th>\n",
       "      <th>LASSO</th>\n",
       "      <th>T10_NULL</th>\n",
       "      <th>T10_MLR</th>\n",
       "      <th>T10_LASSO</th>\n",
       "      <th>T10_KNN</th>\n",
       "    </tr>\n",
       "  </thead>\n",
       "  <tbody>\n",
       "    <tr>\n",
       "      <th>train_mse</th>\n",
       "      <td>4336335917.904231</td>\n",
       "      <td>763547816.853986</td>\n",
       "      <td>40549.604758</td>\n",
       "      <td>763547990.324104</td>\n",
       "      <td>4.477593e+09</td>\n",
       "      <td>9.214073e+08</td>\n",
       "      <td>9.214073e+08</td>\n",
       "      <td>1.342519e+06</td>\n",
       "    </tr>\n",
       "    <tr>\n",
       "      <th>test_mse</th>\n",
       "      <td>4569145233.881576</td>\n",
       "      <td>673533678.823649</td>\n",
       "      <td>719220102.97621</td>\n",
       "      <td>673537919.328139</td>\n",
       "      <td>4.007526e+09</td>\n",
       "      <td>6.859904e+08</td>\n",
       "      <td>6.859911e+08</td>\n",
       "      <td>1.040364e+09</td>\n",
       "    </tr>\n",
       "    <tr>\n",
       "      <th>test_r2</th>\n",
       "      <td>NaN</td>\n",
       "      <td>0.851972</td>\n",
       "      <td>0.841931</td>\n",
       "      <td>0.851971</td>\n",
       "      <td>NaN</td>\n",
       "      <td>8.273207e-01</td>\n",
       "      <td>8.273206e-01</td>\n",
       "      <td>7.381169e-01</td>\n",
       "    </tr>\n",
       "  </tbody>\n",
       "</table>\n",
       "</div>"
      ],
      "text/plain": [
       "                        NULL               MLR              KNN  \\\n",
       "train_mse  4336335917.904231  763547816.853986     40549.604758   \n",
       "test_mse   4569145233.881576  673533678.823649  719220102.97621   \n",
       "test_r2                  NaN          0.851972         0.841931   \n",
       "\n",
       "                      LASSO      T10_NULL       T10_MLR     T10_LASSO  \\\n",
       "train_mse  763547990.324104  4.477593e+09  9.214073e+08  9.214073e+08   \n",
       "test_mse   673537919.328139  4.007526e+09  6.859904e+08  6.859911e+08   \n",
       "test_r2            0.851971           NaN  8.273207e-01  8.273206e-01   \n",
       "\n",
       "                T10_KNN  \n",
       "train_mse  1.342519e+06  \n",
       "test_mse   1.040364e+09  \n",
       "test_r2    7.381169e-01  "
      ]
     },
     "execution_count": 259,
     "metadata": {},
     "output_type": "execute_result"
    }
   ],
   "source": [
    "models"
   ]
  },
  {
   "cell_type": "code",
   "execution_count": 260,
   "metadata": {},
   "outputs": [
    {
     "data": {
      "text/plain": [
       "[<matplotlib.lines.Line2D at 0x7fabbc24c760>]"
      ]
     },
     "execution_count": 260,
     "metadata": {},
     "output_type": "execute_result"
    },
    {
     "data": {
      "image/png": "[encoded data removed]",
      "text/plain": [
       "<Figure size 576x360 with 1 Axes>"
      ]
     },
     "metadata": {
      "needs_background": "light"
     },
     "output_type": "display_data"
    }
   ],
   "source": [
    "#MLR seems to be the best model\n",
    "fig, ax = plt.subplots(figsize=(8,5))\n",
    "ax.scatter(linear_regression.predict(x_test), y_test, s=4)\n",
    "ax.plot(y_test, y_test, color='red')"
   ]
  },
  {
   "cell_type": "markdown",
   "metadata": {},
   "source": [
    "Testing Random Forest"
   ]
  },
  {
   "cell_type": "code",
   "execution_count": 261,
   "metadata": {},
   "outputs": [],
   "source": [
    "RF = RandomForestClassifier(n_estimators=100, max_depth=20, max_features='auto',\n",
    "                            random_state=55, n_jobs=-1)"
   ]
  },
  {
   "cell_type": "code",
   "execution_count": 262,
   "metadata": {},
   "outputs": [],
   "source": [
    "linear_regression = LinearRegression()\n",
    "linear_regression.fit(x_train, y_train)\n",
    "MLR_cross_val = cross_validate(estimator=linear_regression,X=X,y=y,\n",
    "                                    scoring='r2', \n",
    "                                    cv=10, n_jobs=-1)['test_score']\n",
    "\n",
    "\n",
    "lasso = Lasso(alpha=0.1)\n",
    "lasso.fit(x_train, y_train)\n",
    "lasso_cross_val = cross_validate(estimator=lasso,X=X,y=y,\n",
    "                                    scoring='r2', \n",
    "                                    cv=10, n_jobs=-1)['test_score']\n",
    "\n",
    "\n",
    "knn = KNeighborsRegressor(n_neighbors=20, weights='distance', metric='euclidean', n_jobs=-1)\n",
    "knn_cross_val = cross_validate(estimator=knn,X=X,y=y,\n",
    "                                    scoring='r2', \n",
    "                                    cv=10, n_jobs=-1)['test_score']\n",
    "\n",
    "\n",
    "RF = RandomForestRegressor(n_estimators=50, max_depth=16, random_state=55, n_jobs=-1)\n",
    "rf_cross_val = cross_validate(estimator=RF,X=X,y=y,\n",
    "                                    scoring='r2', \n",
    "                                    cv=10, n_jobs=-1)['test_score']\n",
    "\n"
   ]
  },
  {
   "cell_type": "code",
   "execution_count": 263,
   "metadata": {},
   "outputs": [
    {
     "data": {
      "text/plain": [
       "array([0.85538106, 0.85487092, 0.82907747, 0.8687937 , 0.76586034,\n",
       "       0.86192086, 0.84437302, 0.78056932, 0.92095834, 0.77924806])"
      ]
     },
     "execution_count": 263,
     "metadata": {},
     "output_type": "execute_result"
    }
   ],
   "source": [
    "rf_cross_val"
   ]
  },
  {
   "cell_type": "code",
   "execution_count": 264,
   "metadata": {},
   "outputs": [
    {
     "data": {
      "text/html": [
       "<div>\n",
       "<style scoped>\n",
       "    .dataframe tbody tr th:only-of-type {\n",
       "        vertical-align: middle;\n",
       "    }\n",
       "\n",
       "    .dataframe tbody tr th {\n",
       "        vertical-align: top;\n",
       "    }\n",
       "\n",
       "    .dataframe thead th {\n",
       "        text-align: right;\n",
       "    }\n",
       "</style>\n",
       "<table border=\"1\" class=\"dataframe\">\n",
       "  <thead>\n",
       "    <tr style=\"text-align: right;\">\n",
       "      <th></th>\n",
       "      <th>MLR</th>\n",
       "      <th>LASSO</th>\n",
       "      <th>KNN</th>\n",
       "      <th>RandomForest</th>\n",
       "    </tr>\n",
       "  </thead>\n",
       "  <tbody>\n",
       "    <tr>\n",
       "      <th>0</th>\n",
       "      <td>0.828956</td>\n",
       "      <td>0.828955</td>\n",
       "      <td>0.752217</td>\n",
       "      <td>0.855381</td>\n",
       "    </tr>\n",
       "    <tr>\n",
       "      <th>1</th>\n",
       "      <td>0.822873</td>\n",
       "      <td>0.822872</td>\n",
       "      <td>0.754451</td>\n",
       "      <td>0.854871</td>\n",
       "    </tr>\n",
       "    <tr>\n",
       "      <th>2</th>\n",
       "      <td>0.800324</td>\n",
       "      <td>0.800326</td>\n",
       "      <td>0.574160</td>\n",
       "      <td>0.829077</td>\n",
       "    </tr>\n",
       "    <tr>\n",
       "      <th>3</th>\n",
       "      <td>0.815142</td>\n",
       "      <td>0.815142</td>\n",
       "      <td>0.804275</td>\n",
       "      <td>0.868794</td>\n",
       "    </tr>\n",
       "    <tr>\n",
       "      <th>4</th>\n",
       "      <td>0.783569</td>\n",
       "      <td>0.783570</td>\n",
       "      <td>0.697680</td>\n",
       "      <td>0.765860</td>\n",
       "    </tr>\n",
       "    <tr>\n",
       "      <th>5</th>\n",
       "      <td>0.697980</td>\n",
       "      <td>0.697979</td>\n",
       "      <td>0.781424</td>\n",
       "      <td>0.861921</td>\n",
       "    </tr>\n",
       "    <tr>\n",
       "      <th>6</th>\n",
       "      <td>0.824466</td>\n",
       "      <td>0.824466</td>\n",
       "      <td>0.701331</td>\n",
       "      <td>0.844373</td>\n",
       "    </tr>\n",
       "    <tr>\n",
       "      <th>7</th>\n",
       "      <td>0.626214</td>\n",
       "      <td>0.626213</td>\n",
       "      <td>0.680435</td>\n",
       "      <td>0.780569</td>\n",
       "    </tr>\n",
       "    <tr>\n",
       "      <th>8</th>\n",
       "      <td>0.847371</td>\n",
       "      <td>0.847371</td>\n",
       "      <td>0.809779</td>\n",
       "      <td>0.920958</td>\n",
       "    </tr>\n",
       "    <tr>\n",
       "      <th>9</th>\n",
       "      <td>0.753790</td>\n",
       "      <td>0.753790</td>\n",
       "      <td>0.592704</td>\n",
       "      <td>0.779248</td>\n",
       "    </tr>\n",
       "  </tbody>\n",
       "</table>\n",
       "</div>"
      ],
      "text/plain": [
       "        MLR     LASSO       KNN  RandomForest\n",
       "0  0.828956  0.828955  0.752217      0.855381\n",
       "1  0.822873  0.822872  0.754451      0.854871\n",
       "2  0.800324  0.800326  0.574160      0.829077\n",
       "3  0.815142  0.815142  0.804275      0.868794\n",
       "4  0.783569  0.783570  0.697680      0.765860\n",
       "5  0.697980  0.697979  0.781424      0.861921\n",
       "6  0.824466  0.824466  0.701331      0.844373\n",
       "7  0.626214  0.626213  0.680435      0.780569\n",
       "8  0.847371  0.847371  0.809779      0.920958\n",
       "9  0.753790  0.753790  0.592704      0.779248"
      ]
     },
     "execution_count": 264,
     "metadata": {},
     "output_type": "execute_result"
    }
   ],
   "source": [
    "cross_val_scores = -1*pd.DataFrame({'MLR':MLR_cross_val, 'LASSO': lasso_cross_val,\n",
    "                                    'KNN':knn_cross_val, 'RandomForest':rf_cross_val})\n",
    "#To convert negative values                                \n",
    "cross_val_scores = -1*cross_val_scores\n",
    "cross_val_scores"
   ]
  },
  {
   "cell_type": "code",
   "execution_count": 265,
   "metadata": {},
   "outputs": [
    {
     "name": "stdout",
     "output_type": "stream",
     "text": [
      "MLR             0.780068\n",
      "LASSO           0.780068\n",
      "KNN             0.714846\n",
      "RandomForest    0.836105\n",
      "dtype: float64\n"
     ]
    }
   ],
   "source": [
    "print(cross_val_scores.mean())"
   ]
  },
  {
   "cell_type": "code",
   "execution_count": 266,
   "metadata": {},
   "outputs": [],
   "source": [
    "RF.fit(x_train, y_train)\n",
    "models.loc['train_mse','RF'] = mean_squared_error(y_pred=RF.predict(x_train), y_true=y_train)\n",
    "models.loc['test_mse','RF'] = mean_squared_error(y_pred=RF.predict(x_test), y_true=y_test)\n",
    "models.loc['test_r2', 'RF'] = r2_score(y_pred=RF.predict(x_test), y_true=y_test)"
   ]
  },
  {
   "cell_type": "code",
   "execution_count": 267,
   "metadata": {},
   "outputs": [
    {
     "data": {
      "text/plain": [
       "<matplotlib.legend.Legend at 0x7fabda55ff70>"
      ]
     },
     "execution_count": 267,
     "metadata": {},
     "output_type": "execute_result"
    },
    {
     "data": {
      "image/png": "[encoded data removed]",
      "text/plain": [
       "<Figure size 576x360 with 1 Axes>"
      ]
     },
     "metadata": {
      "needs_background": "light"
     },
     "output_type": "display_data"
    }
   ],
   "source": [
    "#Checking our models again\n",
    "fig, ax = plt.subplots(figsize=(8,5))\n",
    "models.loc['test_mse'].plot(kind='barh', ax=ax)\n",
    "ax.set_title('Test MSE for Regression Models')\n",
    "ax.legend(loc=8, ncol=4)"
   ]
  },
  {
   "cell_type": "code",
   "execution_count": 268,
   "metadata": {},
   "outputs": [
    {
     "data": {
      "text/plain": [
       "<matplotlib.legend.Legend at 0x7faba8138af0>"
      ]
     },
     "execution_count": 268,
     "metadata": {},
     "output_type": "execute_result"
    },
    {
     "data": {
      "image/png": "[encoded data removed]",
      "text/plain": [
       "<Figure size 576x360 with 1 Axes>"
      ]
     },
     "metadata": {
      "needs_background": "light"
     },
     "output_type": "display_data"
    }
   ],
   "source": [
    "fig, ax = plt.subplots(figsize=(8,5))\n",
    "models.loc['test_r2'].plot(kind='barh', ax=ax)\n",
    "ax.set_title('Test R2')\n",
    "ax.legend(loc=8, ncol=4)"
   ]
  },
  {
   "cell_type": "code",
   "execution_count": 269,
   "metadata": {},
   "outputs": [
    {
     "data": {
      "text/plain": [
       "[<matplotlib.lines.Line2D at 0x7fabbc51f5b0>]"
      ]
     },
     "execution_count": 269,
     "metadata": {},
     "output_type": "execute_result"
    },
    {
     "data": {
      "image/png": "[encoded data removed]",
      "text/plain": [
       "<Figure size 576x360 with 1 Axes>"
      ]
     },
     "metadata": {
      "needs_background": "light"
     },
     "output_type": "display_data"
    }
   ],
   "source": [
    "#RF seems to be the best model now looking at MSE and r2, and our r2 mean in the cross valiation\n",
    "fig, ax = plt.subplots(figsize=(8,5))\n",
    "ax.scatter(RF.predict(x_test), y_test, s=4)\n",
    "ax.plot(y_test, y_test, color='red')"
   ]
  },
  {
   "cell_type": "markdown",
   "metadata": {},
   "source": [
    "Creating a predicting something new"
   ]
  },
  {
   "cell_type": "code",
   "execution_count": 270,
   "metadata": {},
   "outputs": [],
   "source": [
    "new = OrderedDict([('feature08',5), ('feature07',1952), ('feature01',2.0), ('feature02',420.0),\n",
    "                    ('feature10', 1972), ('feature04',972.0), ('feature05',678), ('feature23',1988),\n",
    "                    ('feature10.1',1), ('f16_bad',0)])\n",
    "new = pd.Series(new).values.reshape(1,-1)"
   ]
  },
  {
   "cell_type": "code",
   "execution_count": 271,
   "metadata": {},
   "outputs": [
    {
     "name": "stderr",
     "output_type": "stream",
     "text": [
      "/Users/jenny.wade@schibsted.com/opt/miniconda3/envs/pred/lib/python3.9/site-packages/sklearn/base.py:450: UserWarning: X does not have valid feature names, but RandomForestRegressor was fitted with feature names\n",
      "  warnings.warn(\n"
     ]
    },
    {
     "data": {
      "text/plain": [
       "array([170858.36095238])"
      ]
     },
     "execution_count": 271,
     "metadata": {},
     "output_type": "execute_result"
    }
   ],
   "source": [
    "RF.predict(new)"
   ]
  }
 ],
 "metadata": {
  "interpreter": {
   "hash": "3142cfe2d86b3591126c8a611abecefb38af7c1889f4b04af5a5994c173da13e"
  },
  "kernelspec": {
   "display_name": "Python 3.9.7 ('pred')",
   "language": "python",
   "name": "python3"
  },
  "language_info": {
   "codemirror_mode": {
    "name": "ipython",
    "version": 3
   },
   "file_extension": ".py",
   "mimetype": "text/x-python",
   "name": "python",
   "nbconvert_exporter": "python",
   "pygments_lexer": "ipython3",
   "version": "3.9.7"
  },
  "orig_nbformat": 4
 },
 "nbformat": 4,
 "nbformat_minor": 2
}
